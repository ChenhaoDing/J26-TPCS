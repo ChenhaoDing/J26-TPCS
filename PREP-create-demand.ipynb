{
 "cells": [
  {
   "cell_type": "code",
   "execution_count": 1,
   "id": "11601850",
   "metadata": {},
   "outputs": [],
   "source": [
    "import pandas as pd\n",
    "import numpy as np\n",
    "from matplotlib import pyplot as plt\n",
    "import os"
   ]
  },
  {
   "cell_type": "markdown",
   "id": "e7ef49f3",
   "metadata": {},
   "source": [
    "# Variables"
   ]
  },
  {
   "cell_type": "code",
   "execution_count": 2,
   "id": "5a4d8e65",
   "metadata": {},
   "outputs": [],
   "source": [
    "# Demand Size\n",
    "demand_size_list = [i for i in range(100, 600, 50)]\n",
    "# Demand Split Ratio (Inter-Intra Modal, %)\n",
    "demand_split_ratio_list = [i for i in range(10, 91, 20)]\n",
    "\n",
    "# Random Seed\n",
    "random_seed_list = [3, 6, 9]"
   ]
  },
  {
   "cell_type": "markdown",
   "id": "efb43c56",
   "metadata": {},
   "source": [
    "# Fixed Values"
   ]
  },
  {
   "cell_type": "code",
   "execution_count": 3,
   "id": "5774b3a1",
   "metadata": {},
   "outputs": [],
   "source": [
    "# Total Simulation Time (s)\n",
    "total_simulation_time = 4 * 3600\n",
    "# Simulation Time Step (s)\n",
    "simulation_time_step = 30\n",
    "# Warmup Time (s)\n",
    "warmup_time = 1 * 3600\n",
    "\n",
    "# Minimum Intra-Trip Distance (m)\n",
    "min_intra_trip_distance = 3000"
   ]
  },
  {
   "cell_type": "markdown",
   "id": "b82354b2",
   "metadata": {},
   "source": [
    "# Simulation Time"
   ]
  },
  {
   "cell_type": "code",
   "execution_count": 4,
   "id": "c0f46980",
   "metadata": {},
   "outputs": [],
   "source": [
    "# Simulation Time Points\n",
    "simulation_time_points = list(range(warmup_time, total_simulation_time+warmup_time+1, simulation_time_step))"
   ]
  },
  {
   "cell_type": "markdown",
   "id": "d0c8fefd",
   "metadata": {},
   "source": [
    "# Network"
   ]
  },
  {
   "cell_type": "code",
   "execution_count": 5,
   "id": "02090afd",
   "metadata": {},
   "outputs": [
    {
     "name": "stdout",
     "output_type": "stream",
     "text": [
      "Number of nodes: 242\n",
      "Number of left nodes: 121\n",
      "Number of right nodes: 121\n"
     ]
    }
   ],
   "source": [
    "# Load Network Files\n",
    "network_name = \"11-500\"\n",
    "network_path = f\"data/network/{network_name}/\"\n",
    "node_df = pd.read_csv(network_path + \"nodes.csv\")\n",
    "link_df = pd.read_csv(network_path + \"edges.csv\")\n",
    "\n",
    "node_id_list = node_df['node_index'].tolist()\n",
    "print(f\"Number of nodes: {len(node_id_list)}\")\n",
    "\n",
    "left_node_id_list = [i for i in range(0, len(node_id_list)//2)]\n",
    "right_node_id_list = [i for i in range(len(node_id_list)//2, len(node_id_list))]\n",
    "print(f\"Number of left nodes: {len(left_node_id_list)}\")\n",
    "print(f\"Number of right nodes: {len(right_node_id_list)}\")"
   ]
  },
  {
   "cell_type": "code",
   "execution_count": 6,
   "id": "4083fcfb",
   "metadata": {},
   "outputs": [
    {
     "name": "stdout",
     "output_type": "stream",
     "text": [
      "Distance matrix shape: (242, 242)\n"
     ]
    },
    {
     "data": {
      "image/png": "[encoded data removed]",
      "text/plain": [
       "<Figure size 640x480 with 1 Axes>"
      ]
     },
     "metadata": {},
     "output_type": "display_data"
    }
   ],
   "source": [
    "# Load Distance Matrix\n",
    "distance_matrix = np.load(network_path + \"dist_matrix.npy\")\n",
    "print(f\"Distance matrix shape: {distance_matrix.shape}\")\n",
    "\n",
    "# Draw the Distribution of Distances\n",
    "plt.hist(distance_matrix.flatten(), bins=500)\n",
    "plt.xlabel(\"Distance (m)\")\n",
    "plt.ylabel(\"Frequency\")\n",
    "plt.title(\"Distribution of Distances between Nodes\")\n",
    "plt.show()"
   ]
  },
  {
   "cell_type": "markdown",
   "id": "0d3ec8db",
   "metadata": {},
   "source": [
    "# Create OD demand"
   ]
  },
  {
   "cell_type": "code",
   "execution_count": 7,
   "id": "cb722427",
   "metadata": {},
   "outputs": [],
   "source": [
    "def create_demand(demand_size, demand_split_ratio, random_seed):\n",
    "    np.random.seed(random_seed)\n",
    "    \n",
    "    # Number of left and right demands\n",
    "    Half_demand_size = demand_size / 2\n",
    "\n",
    "    num_half_intra_demand = int((Half_demand_size) * (demand_split_ratio / 100))\n",
    "    num_half_inter_demand = Half_demand_size - num_half_intra_demand\n",
    "    print(f\"Number of half intra demands: {num_half_intra_demand}\")\n",
    "    print(f\"Number of half inter demands: {num_half_inter_demand}\")\n",
    "\n",
    "    # Generate left demands\n",
    "    left_demand_list = []\n",
    "    # Generate left intra demands\n",
    "    left_intra_count = 0\n",
    "    while left_intra_count < num_half_intra_demand:\n",
    "        origin = np.random.choice(left_node_id_list)\n",
    "        destination = np.random.choice(left_node_id_list)\n",
    "        if origin != destination and distance_matrix[origin][destination] >= min_intra_trip_distance:\n",
    "            request_time = np.random.choice(simulation_time_points)\n",
    "            left_demand_list.append((origin, destination, request_time))\n",
    "            left_intra_count += 1\n",
    "    # Generate left inter demands\n",
    "    left_inter_count = 0\n",
    "    while left_inter_count < num_half_inter_demand:\n",
    "        origin = np.random.choice(left_node_id_list)\n",
    "        destination = np.random.choice(right_node_id_list)\n",
    "        request_time = np.random.choice(simulation_time_points)\n",
    "        left_demand_list.append((origin, destination, request_time))\n",
    "        left_inter_count += 1\n",
    "    print(f\"Total left demands generated: {len(left_demand_list)}\")\n",
    "\n",
    "    # Generate right demands\n",
    "    right_demand_list = []\n",
    "    # Generate right intra demands\n",
    "    right_intra_count = 0\n",
    "    while right_intra_count < num_half_intra_demand:\n",
    "        origin = np.random.choice(right_node_id_list)\n",
    "        destination = np.random.choice(right_node_id_list)\n",
    "        if origin != destination and distance_matrix[origin][destination] >= min_intra_trip_distance:\n",
    "            request_time = np.random.choice(simulation_time_points)\n",
    "            right_demand_list.append((origin, destination, request_time))\n",
    "            right_intra_count += 1\n",
    "    # Generate right inter demands\n",
    "    right_inter_count = 0\n",
    "    while right_inter_count < num_half_inter_demand:\n",
    "        origin = np.random.choice(right_node_id_list)\n",
    "        destination = np.random.choice(left_node_id_list)\n",
    "        request_time = np.random.choice(simulation_time_points)\n",
    "        right_demand_list.append((origin, destination, request_time))\n",
    "        right_inter_count += 1\n",
    "    print(f\"Total right demands generated: {len(right_demand_list)}\")\n",
    "\n",
    "    # Combine left and right demands\n",
    "    total_demand_list = left_demand_list + right_demand_list\n",
    "    print(f\"Total demands generated: {len(total_demand_list)}\")\n",
    "\n",
    "    return total_demand_list"
   ]
  },
  {
   "cell_type": "code",
   "execution_count": null,
   "id": "0959bba1",
   "metadata": {},
   "outputs": [
    {
     "name": "stdout",
     "output_type": "stream",
     "text": [
      "Number of half intra demands: 75\n",
      "Number of half inter demands: 75.0\n",
      "Total left demands generated: 150\n",
      "Total right demands generated: 150\n",
      "Total demands generated: 300\n",
      "[(106, 24, 11070), (3, 56, 17280), (0, 21, 8010), (21, 119, 16260), (96, 20, 16440), (93, 39, 15540), (22, 66, 11340), (63, 60, 7470), (29, 106, 8160), (62, 7, 8730)]\n"
     ]
    }
   ],
   "source": []
  }
 ],
 "metadata": {
  "kernelspec": {
   "display_name": "chenhao",
   "language": "python",
   "name": "python3"
  },
  "language_info": {
   "codemirror_mode": {
    "name": "ipython",
    "version": 3
   },
   "file_extension": ".py",
   "mimetype": "text/x-python",
   "name": "python",
   "nbconvert_exporter": "python",
   "pygments_lexer": "ipython3",
   "version": "3.11.11"
  }
 },
 "nbformat": 4,
 "nbformat_minor": 5
}
