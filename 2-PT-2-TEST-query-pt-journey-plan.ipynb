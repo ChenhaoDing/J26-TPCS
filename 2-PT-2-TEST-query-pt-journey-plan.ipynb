{
 "cells": [
  {
   "cell_type": "code",
   "execution_count": 1,
   "id": "d13030e4",
   "metadata": {},
   "outputs": [],
   "source": [
    "import pandas as pd\n",
    "import numpy as np\n",
    "import os\n",
    "from datetime import datetime\n",
    "import time"
   ]
  },
  {
   "cell_type": "code",
   "execution_count": 2,
   "id": "c865fe7b",
   "metadata": {},
   "outputs": [],
   "source": [
    "from src.pt.PTOperator import PTOperator"
   ]
  },
  {
   "cell_type": "code",
   "execution_count": 3,
   "id": "a472dba5",
   "metadata": {},
   "outputs": [
    {
     "name": "stdout",
     "output_type": "stream",
     "text": [
      "Initializing the PT router with the given GTFS data in the directory: data\\GTFS\\pt\\basic_pt_train-15_bus-10\n",
      "PT router initialized successfully.\n",
      "PT operator initialized successfully.\n"
     ]
    }
   ],
   "source": [
    "gtfs_dir = r\"data\\GTFS\\pt\\basic_pt_train-15_bus-10\"\n",
    "pt_control = PTOperator(gtfs_dir)"
   ]
  },
  {
   "cell_type": "code",
   "execution_count": 4,
   "id": "39352901",
   "metadata": {},
   "outputs": [],
   "source": [
    "# arrival_datetime = datetime(2024, 1, 1, 1, 0, 0)\n",
    "\n",
    "# start_time = time.time()\n",
    "# print(pt_control.return_fastest_pt_journey_1to1(\"105\", \"162\", arrival_datetime, 999, detailed=False))\n",
    "# print(f\"Time taken: {time.time() - start_time} seconds\")\n",
    "# start_time = time.time()\n",
    "# print(pt_control.return_fastest_pt_journey_1to1(\"105\", \"162\", arrival_datetime, 999, detailed=True))\n",
    "# print(f\"Time taken: {time.time() - start_time} seconds\")"
   ]
  },
  {
   "cell_type": "code",
   "execution_count": 5,
   "id": "5299146c",
   "metadata": {},
   "outputs": [
    {
     "name": "stdout",
     "output_type": "stream",
     "text": [
      "Finding fastest PT journey from station 110 to station 27 at 2024-01-01 01:00:00 with max transfers 999 and detailed=True\n",
      "Finding fastest PT journey from station 110 to station 56 at 2024-01-01 01:00:00 with max transfers 999 and detailed=True\n",
      "({'duration': 1290, 'source_transfer_time': 0, 'waiting_time': 570, 'trip_time': 720, 'num_transfers': 0, 'departure_time': 3600, 'departure_day': 'current_day', 'arrival_time': 4890, 'arrival_day': 'current_day', 'steps': [{'duration': 720, 'departure_time': 4170, 'arrival_time': 4890, 'day': 'current_day', 'from_stop_id': '110-2', 'to_stop_id': '27-2', 'trip_id': '2-0-1', 'agency_name': 'Unknown'}]}, '110', '27')\n"
     ]
    }
   ],
   "source": [
    "arrival_datetime = datetime(2024, 1, 1, 1, 0, 0)\n",
    "\n",
    "source_station_ids_str = ['110']\n",
    "target_station_ids_str = ['27','56']\n",
    "\n",
    "print(pt_control.return_fastest_pt_journey_xtox(source_station_ids_str, target_station_ids_str, arrival_datetime, 999, detailed=True))"
   ]
  },
  {
   "cell_type": "code",
   "execution_count": 6,
   "id": "ede4c181",
   "metadata": {},
   "outputs": [
    {
     "name": "stdout",
     "output_type": "stream",
     "text": [
      "Finding fastest PT journey from station 110 to station 56 at 2024-01-01 01:00:00 with max transfers 999 and detailed=True\n",
      "{'duration': 1590, 'source_transfer_time': 0, 'waiting_time': 570, 'trip_time': 1020, 'num_transfers': 2, 'departure_time': 3600, 'departure_day': 'current_day', 'arrival_time': 5190, 'arrival_day': 'current_day', 'steps': [{'duration': 450, 'departure_time': 4170, 'arrival_time': 4620, 'day': 'current_day', 'from_stop_id': '110-2', 'to_stop_id': 'A-2', 'trip_id': '2-0-1', 'agency_name': 'Unknown'}, {'duration': 30, 'departure_time': 4620, 'arrival_time': 4650, 'day': 'current_day', 'from_stop_id': 'A-2', 'to_stop_id': 'A-1', 'trip_id': 'walking', 'agency_name': 'Unknown'}, {'duration': 270, 'departure_time': 4920, 'arrival_time': 5190, 'day': 'current_day', 'from_stop_id': 'A-1', 'to_stop_id': '56-1', 'trip_id': '1-1-2', 'agency_name': 'Unknown'}]}\n"
     ]
    }
   ],
   "source": [
    "print(pt_control.return_fastest_pt_journey_1to1(\"110\", \"56\", arrival_datetime, 999, detailed=True))"
   ]
  }
 ],
 "metadata": {
  "kernelspec": {
   "display_name": "chenhao",
   "language": "python",
   "name": "python3"
  },
  "language_info": {
   "codemirror_mode": {
    "name": "ipython",
    "version": 3
   },
   "file_extension": ".py",
   "mimetype": "text/x-python",
   "name": "python",
   "nbconvert_exporter": "python",
   "pygments_lexer": "ipython3",
   "version": "3.11.11"
  }
 },
 "nbformat": 4,
 "nbformat_minor": 5
}
