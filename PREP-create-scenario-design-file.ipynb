{
 "cells": [
  {
   "cell_type": "code",
   "execution_count": 1,
   "id": "dc43947f",
   "metadata": {},
   "outputs": [],
   "source": [
    "import pandas as pd\n",
    "import numpy as np"
   ]
  },
  {
   "cell_type": "code",
   "execution_count": 2,
   "id": "5e90e082",
   "metadata": {},
   "outputs": [],
   "source": [
    "SAVE_DIRPATH = \"data/scenarios\""
   ]
  },
  {
   "cell_type": "markdown",
   "id": "5ba6fe34",
   "metadata": {},
   "source": [
    "# Variables"
   ]
  },
  {
   "cell_type": "code",
   "execution_count": 3,
   "id": "b555256a",
   "metadata": {},
   "outputs": [],
   "source": [
    "# BUS Network\n",
    "bus_network_list = ['basic', 'diagonal', 'ring', 'mature']\n",
    "# Train Headway (min)\n",
    "train_headway_list = [i for i in range(10, 31, 5)]\n",
    "\n",
    "# MoD Fleet Size\n",
    "mod_fleet_size_list = [i for i in range(30, 151, 20)]\n",
    "\n",
    "# MaaS Platform Communication Strategy\n",
    "maas_communication_strategy_list = ['default', 'TPCS']\n",
    "\n",
    "# Random Seed\n",
    "random_seed_list = [3, 6, 9]\n",
    "\n",
    "# MoD Waiting Time Threshold (s)\n",
    "mod_waiting_time_threshold_list = [300, 600, 900]\n",
    "# MoD Detour Time Threshold (%)\n",
    "mod_detour_time_threshold_list = [i for i in range(30, 101, 20)]\n",
    "\n",
    "# Demand Size\n",
    "demand_size_list = [i for i in range(100, 600, 50)]\n",
    "# Demand Split Ratio (Inter-Intra Modal, %)\n",
    "demand_split_ratio_list = [i for i in range(10, 91, 20)]"
   ]
  },
  {
   "cell_type": "markdown",
   "id": "b85a2427",
   "metadata": {},
   "source": [
    "# Fixed Values"
   ]
  },
  {
   "cell_type": "code",
   "execution_count": 4,
   "id": "f74aa29b",
   "metadata": {},
   "outputs": [],
   "source": [
    "# Train Trip Duration (min)\n",
    "train_trip_duration = 30\n",
    "# Bus Speed (km/h)\n",
    "bus_speed = 20\n",
    "# AMoD Speed (km/h)\n",
    "amod_speed = 20\n",
    "# Walking Speed (m/s)\n",
    "walking_speed = 1.3\n",
    "\n",
    "# Total Simulation Time (s)\n",
    "total_simulation_time = 4 * 3600\n",
    "# Simulation Time Step (s)\n",
    "simulation_time_step = 30\n"
   ]
  },
  {
   "cell_type": "markdown",
   "id": "35fad516",
   "metadata": {},
   "source": [
    "# Create Scenario Design File"
   ]
  },
  {
   "cell_type": "code",
   "execution_count": 5,
   "id": "b817097c",
   "metadata": {},
   "outputs": [
    {
     "name": "stdout",
     "output_type": "stream",
     "text": [
      "Total Scenarios: 129000\n",
      "Number of Pure AMoD Scenarios: 126000\n",
      "Number of Pure BUS Scenarios: 3000\n"
     ]
    }
   ],
   "source": [
    "# Pure AMoD Scenarios\n",
    "pure_amod_scenarios = []\n",
    "for train_headway in train_headway_list:\n",
    "    for mod_fleet_size in mod_fleet_size_list:\n",
    "        for maas_communication_strategy in maas_communication_strategy_list:\n",
    "            for random_seed in random_seed_list:\n",
    "                for mod_waiting_time_threshold in mod_waiting_time_threshold_list:\n",
    "                    for mod_detour_time_threshold in mod_detour_time_threshold_list:\n",
    "                        for demand_size in demand_size_list:\n",
    "                            for demand_split_ratio in demand_split_ratio_list:\n",
    "                                pure_amod_scenarios.append({\n",
    "                                    'bus_network': 'none',\n",
    "                                    'train_headway': train_headway,\n",
    "                                    'mod_fleet_size': mod_fleet_size,\n",
    "                                    'maas_communication_strategy': maas_communication_strategy,\n",
    "                                    'random_seed': random_seed,\n",
    "                                    'mod_waiting_time_threshold': mod_waiting_time_threshold,\n",
    "                                    'mod_detour_time_threshold': mod_detour_time_threshold,\n",
    "                                    'demand_size': demand_size,\n",
    "                                    'demand_split_ratio': demand_split_ratio,\n",
    "                                    'scenario_type': 'pure_amod',\n",
    "                                })\n",
    "# Pure BUS Scenarios\n",
    "pure_bus_scenarios = []\n",
    "for bus_network in bus_network_list:\n",
    "    for train_headway in train_headway_list:\n",
    "        for random_seed in random_seed_list:\n",
    "                for demand_size in demand_size_list:\n",
    "                    for demand_split_ratio in demand_split_ratio_list:\n",
    "                        pure_bus_scenarios.append({\n",
    "                            'bus_network': bus_network,\n",
    "                            'train_headway': train_headway,\n",
    "                            'mod_fleet_size': -1,\n",
    "                            'maas_communication_strategy': 'none',\n",
    "                            'random_seed': random_seed,\n",
    "                            'mod_waiting_time_threshold': -1,\n",
    "                            'mod_detour_time_threshold': -1,\n",
    "                            'demand_size': demand_size,\n",
    "                            'demand_split_ratio': demand_split_ratio,\n",
    "                            'scenario_type': 'pure_bus'\n",
    "                        })\n",
    "# Combine Scenarios\n",
    "all_scenarios = pure_amod_scenarios + pure_bus_scenarios\n",
    "# Create DataFrame\n",
    "scenario_df = pd.DataFrame(all_scenarios)\n",
    "print(f\"Total Scenarios: {len(scenario_df)}\")\n",
    "print(f\"Number of Pure AMoD Scenarios: {len(pure_amod_scenarios)}\")\n",
    "print(f\"Number of Pure BUS Scenarios: {len(pure_bus_scenarios)}\")\n",
    "\n",
    "# Add Fixed Values\n",
    "scenario_df['train_trip_duration'] = train_trip_duration\n",
    "scenario_df['bus_speed'] = bus_speed\n",
    "scenario_df['amod_speed'] = amod_speed\n",
    "scenario_df['walking_speed'] = walking_speed\n",
    "scenario_df['total_simulation_time'] = total_simulation_time\n",
    "scenario_df['simulation_time_step'] = simulation_time_step\n",
    "\n",
    "# Save to CSV\n",
    "scenario_df.to_csv(f\"{SAVE_DIRPATH}/scenario_design_20251006.csv\", index=False)"
   ]
  }
 ],
 "metadata": {
  "kernelspec": {
   "display_name": "chenhao",
   "language": "python",
   "name": "python3"
  },
  "language_info": {
   "codemirror_mode": {
    "name": "ipython",
    "version": 3
   },
   "file_extension": ".py",
   "mimetype": "text/x-python",
   "name": "python",
   "nbconvert_exporter": "python",
   "pygments_lexer": "ipython3",
   "version": "3.11.11"
  }
 },
 "nbformat": 4,
 "nbformat_minor": 5
}
