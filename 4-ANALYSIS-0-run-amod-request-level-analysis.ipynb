{
 "cells": [
  {
   "cell_type": "code",
   "execution_count": null,
   "id": "0bc039ad",
   "metadata": {},
   "outputs": [],
   "source": [
    "import pandas as pd\n",
    "import numpy as np\n",
    "import os\n",
    "from tqdm import tqdm\n",
    "from itertools import product\n",
    "\n",
    "from src.analysis.amod import process_amod_user_stats"
   ]
  },
  {
   "cell_type": "markdown",
   "id": "eb9ea670",
   "metadata": {},
   "source": [
    "# Variables"
   ]
  },
  {
   "cell_type": "code",
   "execution_count": null,
   "id": "ec10843e",
   "metadata": {},
   "outputs": [],
   "source": [
    "# Train Headway (min)\n",
    "train_headway_list = [i for i in range(10, 31, 5)]\n",
    "\n",
    "# MoD Fleet Size\n",
    "mod_fleet_size_list = [i for i in range(30, 151, 20)]\n",
    "\n",
    "# MaaS Platform Communication Strategy\n",
    "maas_communication_strategy_list = ['default', 'TPCS']\n",
    "\n",
    "# Random Seed\n",
    "random_seed_list = [3, 6, 9]\n",
    "\n",
    "# MoD Waiting Time Threshold (s)\n",
    "mod_waiting_time_threshold_list = [300, 600, 900]\n",
    "# MoD Detour Time Threshold (%)\n",
    "mod_detour_time_threshold_list = [i for i in range(30, 101, 20)]\n",
    "\n",
    "# Demand Size\n",
    "demand_size_list = [i for i in range(100, 600, 50)]\n",
    "# Demand Split Ratio (Intra Modal, %)\n",
    "demand_split_ratio_list = [i for i in range(10, 91, 20)]\n",
    "\n",
    "# Total Simulation Time (s)\n",
    "total_sim_time = [0, 10800]  # 3 hours\n",
    "# Warm-up Time (s)\n",
    "warmup_time = 3600  # 1 hour\n",
    "# Simulation Time Period (s)\n",
    "time_period = [warmup_time, total_sim_time[1]+warmup_time]  # 1h + 3h\n",
    "\n",
    "amod_fleetpy_simulation_output_folder = r\"D:\\projects\\fleetpy\\github\\ptbroker\\studies\\j26-tpcs\\results\"\n",
    "\n",
    "demand_files_folder = r\"data\\demand\\11-500\\amod\"\n",
    "\n",
    "output_folder = r\"data\\amod-sim-results\"\n",
    "os.makedirs(output_folder, exist_ok=True)"
   ]
  },
  {
   "cell_type": "markdown",
   "id": "d498937d",
   "metadata": {},
   "source": [
    "# Request level"
   ]
  },
  {
   "cell_type": "code",
   "execution_count": null,
   "id": "1dcd8dfc",
   "metadata": {},
   "outputs": [],
   "source": [
    "# All scenario combinations\n",
    "all_scenario_combinations = list(product(\n",
    "    random_seed_list,\n",
    "    mod_fleet_size_list,\n",
    "    demand_size_list,\n",
    "    demand_split_ratio_list,\n",
    "    maas_communication_strategy_list,\n",
    "    mod_detour_time_threshold_list,\n",
    "    mod_waiting_time_threshold_list,\n",
    "    train_headway_list\n",
    "))\n",
    "\n",
    "all_results_dfs = []"
   ]
  },
  {
   "cell_type": "code",
   "execution_count": null,
   "id": "ea79d64d",
   "metadata": {},
   "outputs": [],
   "source": [
    "for random_seed, fleet_size, demand_size, demand_split_ratio, broker_type, op_max_detour_time_factor, op_max_wait_time, headway in tqdm(all_scenario_combinations):\n",
    "    scenario_name = f\"amod-{demand_size}-{demand_split_ratio}-{fleet_size}-{broker_type}-{op_max_detour_time_factor}-{op_max_wait_time}-{headway}-{random_seed}-{time_period[0]}-{time_period[1]}\"\n",
    "\n",
    "    # Read demand file\n",
    "    demand_name = f\"amod_ds{demand_size}_dsr{demand_split_ratio}_rs{random_seed}.csv\"\n",
    "    demand_file_path = os.path.join(demand_files_folder, demand_name)\n",
    "    demand_df = pd.read_csv(demand_file_path)\n",
    "\n",
    "    # Read 1_user-stats.csv file\n",
    "    user_stats_file_path = os.path.join(amod_fleetpy_simulation_output_folder, scenario_name, \"1_user-stats.csv\")\n",
    "    if not os.path.exists(user_stats_file_path):\n",
    "        print(f\"File not found: {user_stats_file_path}\")\n",
    "    user_stats_df = pd.read_csv(user_stats_file_path)\n",
    "\n",
    "    # Process AMoD user stats\n",
    "    results_df = process_amod_user_stats(user_stats_df, demand_df)\n",
    "\n",
    "    # Add scenario parameters to results_df\n",
    "    results_df['random_seed'] = random_seed\n",
    "    results_df['fleet_size'] = fleet_size\n",
    "    results_df['demand_size'] = demand_size\n",
    "    results_df['demand_split_ratio'] = demand_split_ratio\n",
    "    results_df['broker_type'] = broker_type\n",
    "    results_df['op_max_detour_time_factor'] = op_max_detour_time_factor\n",
    "    results_df['op_max_wait_time'] = op_max_wait_time\n",
    "    results_df['headway'] = headway\n",
    "    results_df['scenario_name'] = scenario_name\n",
    "\n",
    "    # Save individual scenario results\n",
    "    scenario_output_dirpath = os.path.join(output_folder, scenario_name)\n",
    "    os.makedirs(scenario_output_dirpath, exist_ok=True)\n",
    "    scenario_output_filepath = os.path.join(scenario_output_dirpath, \"amod_request_level_analysis_results.csv\")\n",
    "    results_df.to_csv(scenario_output_filepath, index=False)\n",
    "\n",
    "    all_results_dfs.append(results_df)\n",
    "\n",
    "# Combine all results\n",
    "final_results_df = pd.concat(all_results_dfs, ignore_index=True)\n",
    "# Add unique request index\n",
    "final_results_df['unique_request_id'] = final_results_df.index\n",
    "\n",
    "print(\"Final results dataframe shape:\", final_results_df.shape)\n",
    "# Save final results to CSV\n",
    "final_results_df_file_path = os.path.join(output_folder, \"all_amod_request_level_analysis_results.csv\")\n",
    "final_results_df.to_csv(final_results_df_file_path, index=False)"
   ]
  }
 ],
 "metadata": {
  "kernelspec": {
   "display_name": "chenhao",
   "language": "python",
   "name": "python3"
  },
  "language_info": {
   "codemirror_mode": {
    "name": "ipython",
    "version": 3
   },
   "file_extension": ".py",
   "mimetype": "text/x-python",
   "name": "python",
   "nbconvert_exporter": "python",
   "pygments_lexer": "ipython3",
   "version": "3.11.11"
  }
 },
 "nbformat": 4,
 "nbformat_minor": 5
}
