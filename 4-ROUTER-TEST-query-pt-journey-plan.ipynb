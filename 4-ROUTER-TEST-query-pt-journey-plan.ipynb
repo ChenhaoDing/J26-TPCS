{
 "cells": [
  {
   "cell_type": "code",
   "execution_count": 1,
   "id": "d13030e4",
   "metadata": {},
   "outputs": [],
   "source": [
    "import pandas as pd\n",
    "import numpy as np\n",
    "import os\n",
    "from datetime import datetime\n",
    "import time"
   ]
  },
  {
   "cell_type": "code",
   "execution_count": 2,
   "id": "c865fe7b",
   "metadata": {},
   "outputs": [],
   "source": [
    "from src.pt.PTOperator import PTOperator"
   ]
  },
  {
   "cell_type": "code",
   "execution_count": 3,
   "id": "a472dba5",
   "metadata": {},
   "outputs": [
    {
     "name": "stdout",
     "output_type": "stream",
     "text": [
      "Initializing the PT router with the given GTFS data in the directory: data\\GTFS\\pt\\mature_pt_train-15_bus-10\n",
      "PT router initialized successfully.\n",
      "PT operator initialized successfully.\n"
     ]
    }
   ],
   "source": [
    "gtfs_dir = r\"data\\GTFS\\pt\\mature_pt_train-15_bus-10\"\n",
    "pt_control = PTOperator(gtfs_dir)"
   ]
  },
  {
   "cell_type": "code",
   "execution_count": 4,
   "id": "39352901",
   "metadata": {},
   "outputs": [
    {
     "name": "stdout",
     "output_type": "stream",
     "text": [
      "Finding fastest PT journey from station 105 to station 162 at 2024-01-01 01:00:00 with max transfers 999 and detailed=False\n",
      "{'duration': 4360, 'source_transfer_time': 0, 'waiting_time': 180, 'trip_time': 4180, 'num_transfers': 6, 'departure_time': 3600, 'departure_day': 'current_day', 'arrival_time': 7960, 'arrival_day': 'current_day', 'steps': []}\n",
      "Time taken: 0.006028175354003906 seconds\n",
      "Finding fastest PT journey from station 105 to station 162 at 2024-01-01 01:00:00 with max transfers 999 and detailed=True\n",
      "{'duration': 4360, 'source_transfer_time': 0, 'waiting_time': 180, 'trip_time': 4180, 'num_transfers': 6, 'departure_time': 3600, 'departure_day': 'current_day', 'arrival_time': 7960, 'arrival_day': 'current_day', 'steps': [{'duration': 900, 'departure_time': 3780, 'arrival_time': 4680, 'day': 'current_day', 'from_stop_id': '105-5', 'to_stop_id': 'A-5', 'trip_id': '8-1-1', 'agency_name': 'Unknown'}, {'duration': 30, 'departure_time': 4680, 'arrival_time': 4710, 'day': 'current_day', 'from_stop_id': 'A-5', 'to_stop_id': 'A-0', 'trip_id': 'walking', 'agency_name': 'Unknown'}, {'duration': 1800, 'departure_time': 5400, 'arrival_time': 7200, 'day': 'current_day', 'from_stop_id': 'A-0', 'to_stop_id': 'B-0', 'trip_id': 'IE-6-0', 'agency_name': 'Unknown'}, {'duration': 30, 'departure_time': 7200, 'arrival_time': 7230, 'day': 'current_day', 'from_stop_id': 'B-0', 'to_stop_id': 'B-1', 'trip_id': 'walking', 'agency_name': 'Unknown'}, {'duration': 270, 'departure_time': 7320, 'arrival_time': 7590, 'day': 'current_day', 'from_stop_id': 'B-1', 'to_stop_id': '180-1', 'trip_id': '3-0-6', 'agency_name': 'Unknown'}, {'duration': 30, 'departure_time': 7590, 'arrival_time': 7620, 'day': 'current_day', 'from_stop_id': '180-1', 'to_stop_id': '180-3', 'trip_id': 'walking', 'agency_name': 'Unknown'}, {'duration': 190, 'departure_time': 7770, 'arrival_time': 7960, 'day': 'current_day', 'from_stop_id': '180-3', 'to_stop_id': '162-3', 'trip_id': '6-1-4', 'agency_name': 'Unknown'}]}\n",
      "Time taken: 0.009008169174194336 seconds\n"
     ]
    }
   ],
   "source": [
    "arrival_datetime = datetime(2024, 1, 1, 1, 0, 0)\n",
    "\n",
    "start_time = time.time()\n",
    "print(pt_control.return_fastest_pt_journey_1to1(\"105\", \"162\", arrival_datetime, 999, detailed=False))\n",
    "print(f\"Time taken: {time.time() - start_time} seconds\")\n",
    "start_time = time.time()\n",
    "print(pt_control.return_fastest_pt_journey_1to1(\"105\", \"162\", arrival_datetime, 999, detailed=True))\n",
    "print(f\"Time taken: {time.time() - start_time} seconds\")"
   ]
  }
 ],
 "metadata": {
  "kernelspec": {
   "display_name": "chenhao",
   "language": "python",
   "name": "python3"
  },
  "language_info": {
   "codemirror_mode": {
    "name": "ipython",
    "version": 3
   },
   "file_extension": ".py",
   "mimetype": "text/x-python",
   "name": "python",
   "nbconvert_exporter": "python",
   "pygments_lexer": "ipython3",
   "version": "3.11.11"
  }
 },
 "nbformat": 4,
 "nbformat_minor": 5
}
