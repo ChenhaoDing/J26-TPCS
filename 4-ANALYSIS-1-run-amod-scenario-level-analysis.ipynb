{
 "cells": [
  {
   "cell_type": "code",
   "execution_count": null,
   "id": "282552df",
   "metadata": {},
   "outputs": [],
   "source": [
    "import pandas as pd\n",
    "import numpy as np\n",
    "import os\n",
    "from tqdm import tqdm\n",
    "from itertools import product\n",
    "\n",
    "from src.misc.globals import *\n",
    "\n",
    "from src.analysis.amod import process_amod_scenario_level_stats"
   ]
  },
  {
   "cell_type": "markdown",
   "id": "7884e27b",
   "metadata": {},
   "source": [
    "# Variables"
   ]
  },
  {
   "cell_type": "code",
   "execution_count": null,
   "id": "503498bb",
   "metadata": {},
   "outputs": [],
   "source": [
    "# Train Headway (min)\n",
    "train_headway_list = [i for i in range(10, 31, 5)]\n",
    "\n",
    "# MoD Fleet Size\n",
    "mod_fleet_size_list = [i for i in range(30, 151, 20)]\n",
    "\n",
    "# MaaS Platform Communication Strategy\n",
    "maas_communication_strategy_list = ['default', 'TPCS']\n",
    "\n",
    "# Random Seed\n",
    "random_seed_list = [3, 6, 9]\n",
    "\n",
    "# MoD Waiting Time Threshold (s)\n",
    "mod_waiting_time_threshold_list = [300, 600, 900]\n",
    "# MoD Detour Time Threshold (%)\n",
    "mod_detour_time_threshold_list = [i for i in range(30, 101, 20)]\n",
    "\n",
    "# Demand Size\n",
    "demand_size_list = [i for i in range(100, 600, 50)]\n",
    "# Demand Split Ratio (Intra Modal, %)\n",
    "demand_split_ratio_list = [i for i in range(10, 91, 20)]\n",
    "\n",
    "# Total Simulation Time (s)\n",
    "total_sim_time = [0, 10800]  # 3 hours\n",
    "# Warm-up Time (s)\n",
    "warmup_time = 3600  # 1 hour\n",
    "# Simulation Time Period (s)\n",
    "time_period = [warmup_time, total_sim_time[1]+warmup_time]  # 1h + 3h\n",
    "\n",
    "amod_fleetpy_simulation_output_folder = r\"D:\\projects\\fleetpy\\github\\ptbroker\\studies\\j26-tpcs\\results\"\n",
    "\n",
    "demand_files_folder = r\"data\\demand\\11-500\\amod\"\n",
    "\n",
    "output_folder = r\"data\\amod-sim-results\"\n",
    "os.makedirs(output_folder, exist_ok=True)"
   ]
  },
  {
   "cell_type": "markdown",
   "id": "ceeb1abc",
   "metadata": {},
   "source": [
    "# Scenario level"
   ]
  },
  {
   "cell_type": "code",
   "execution_count": null,
   "id": "843dc36f",
   "metadata": {},
   "outputs": [],
   "source": [
    "# All scenario combinations\n",
    "all_scenario_combinations = list(product(\n",
    "    random_seed_list,\n",
    "    mod_fleet_size_list,\n",
    "    demand_size_list,\n",
    "    demand_split_ratio_list,\n",
    "    maas_communication_strategy_list,\n",
    "    mod_detour_time_threshold_list,\n",
    "    mod_waiting_time_threshold_list,\n",
    "    train_headway_list\n",
    "))\n",
    "\n",
    "all_results_dicts = []"
   ]
  },
  {
   "cell_type": "code",
   "execution_count": null,
   "id": "e50e4c02",
   "metadata": {},
   "outputs": [],
   "source": [
    "for random_seed, fleet_size, demand_size, demand_split_ratio, broker_type, op_max_detour_time_factor, op_max_wait_time, headway in tqdm(all_scenario_combinations):\n",
    "    scenario_name = f\"amod-{demand_size}-{demand_split_ratio}-{fleet_size}-{broker_type}-{op_max_detour_time_factor}-{op_max_wait_time}-{headway}-{random_seed}-{time_period[0]}-{time_period[1]}\"\n",
    "\n",
    "    amod_simulation_results_dir = os.path.join(amod_fleetpy_simulation_output_folder, scenario_name)\n",
    "\n",
    "    request_level_stats_df = pd.read_csv(os.path.join(output_folder, scenario_name, \"amod_request_level_analysis_results.csv\"))\n",
    "\n",
    "    results_dict = process_amod_scenario_level_stats(\n",
    "        request_level_stats_df = request_level_stats_df,\n",
    "        amod_simulation_results_dir = amod_simulation_results_dir,\n",
    "    )\n",
    "    \n",
    "    results_dict['random_seed'] = random_seed\n",
    "    results_dict['fleet_size'] = fleet_size \n",
    "    results_dict['demand_size'] = demand_size\n",
    "    results_dict['demand_split_ratio'] = demand_split_ratio\n",
    "    results_dict['broker_type'] = broker_type\n",
    "    results_dict['op_max_detour_time_factor'] = op_max_detour_time_factor\n",
    "    results_dict['op_max_wait_time'] = op_max_wait_time\n",
    "    results_dict['headway'] = headway\n",
    "    results_dict['scenario_name'] = scenario_name\n",
    "\n",
    "    # Save individual scenario results\n",
    "    scenario_output_dirpath = os.path.join(output_folder, scenario_name)\n",
    "    os.makedirs(scenario_output_dirpath, exist_ok=True)\n",
    "    scenario_output_filepath = os.path.join(scenario_output_dirpath, \"amod_scenario_level_analysis_results.csv\")\n",
    "    pd.DataFrame([results_dict]).to_csv(scenario_output_filepath, index=False)\n",
    "\n",
    "    all_results_dicts.append(results_dict)\n",
    "all_results_df = pd.DataFrame.from_records(all_results_dicts)"
   ]
  }
 ],
 "metadata": {
  "kernelspec": {
   "display_name": "chenhao",
   "language": "python",
   "name": "python3"
  },
  "language_info": {
   "codemirror_mode": {
    "name": "ipython",
    "version": 3
   },
   "file_extension": ".py",
   "mimetype": "text/x-python",
   "name": "python",
   "nbconvert_exporter": "python",
   "pygments_lexer": "ipython3",
   "version": "3.11.11"
  }
 },
 "nbformat": 4,
 "nbformat_minor": 5
}
