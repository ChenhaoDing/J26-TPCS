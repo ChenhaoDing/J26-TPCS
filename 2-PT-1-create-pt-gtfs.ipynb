{
 "cells": [
  {
   "cell_type": "code",
   "execution_count": 2,
   "id": "883c251f",
   "metadata": {},
   "outputs": [],
   "source": [
    "import os\n",
    "import pandas as pd"
   ]
  },
  {
   "cell_type": "code",
   "execution_count": 3,
   "id": "539a734d",
   "metadata": {},
   "outputs": [],
   "source": [
    "# BUS Network\n",
    "bus_network_list = ['basic', 'diagonal', 'ring', 'mature']\n",
    "# Train Headway (min)\n",
    "train_headway_list = [i for i in range(10, 31, 5)]\n",
    "# Bus Headway (min)\n",
    "bus_headway_list = [10]\n",
    "\n",
    "# General GTFS files to include\n",
    "general_gtfs_files = [\n",
    "    'agency_fp.txt',\n",
    "    'calendar_fp.txt',\n",
    "    'stations_fp.txt',\n",
    "    'stops_fp.txt',\n",
    "    'street_station_transfers_fp.txt',\n",
    "    'transfers_fp.txt',\n",
    "]\n",
    "\n",
    "pt_specific_gtfs_files = [\n",
    "    'routes_fp.txt',\n",
    "    'trips_fp.txt',\n",
    "    'stop_times_fp.txt',\n",
    "]\n",
    "\n",
    "# Output directory\n",
    "gtfs_dirpath = 'data/GTFS'\n",
    "general_gtfs_dirpath = os.path.join(gtfs_dirpath, 'general')\n",
    "bus_gtfs_dirpath = os.path.join(gtfs_dirpath, 'bus')\n",
    "train_gtfs_dirpath = os.path.join(gtfs_dirpath, 'train')\n",
    "pt_gtfs_dirpath = os.path.join(gtfs_dirpath, 'pt')"
   ]
  },
  {
   "cell_type": "markdown",
   "id": "cabd86f0",
   "metadata": {},
   "source": [
    "# Create Basic PT GTFS"
   ]
  },
  {
   "cell_type": "code",
   "execution_count": 3,
   "id": "d59e3c42",
   "metadata": {},
   "outputs": [],
   "source": [
    "for train_headway in train_headway_list:\n",
    "    for bus_headway in bus_headway_list:\n",
    "        # Define output GTFS filename\n",
    "        gtfs_filename = f'basic_pt_train-{train_headway}_bus-{bus_headway}'\n",
    "        gtfs_output_dirpath = os.path.join(pt_gtfs_dirpath, gtfs_filename)\n",
    "        os.makedirs(gtfs_output_dirpath, exist_ok=True)\n",
    "        \n",
    "        # Move general GTFS files to output directory\n",
    "        for general_file in general_gtfs_files:\n",
    "            src_fp = os.path.join(general_gtfs_dirpath, general_file)\n",
    "            dest_fp = os.path.join(gtfs_output_dirpath, general_file)\n",
    "            pd.read_csv(src_fp).to_csv(dest_fp, index=False)\n",
    "\n",
    "        # Combine PT-specific GTFS files\n",
    "        for specific_file in pt_specific_gtfs_files:\n",
    "            # Read basic bus GTFS file\n",
    "            basic_bus_file = pd.read_csv(os.path.join(bus_gtfs_dirpath, f\"basic/bus_headway_{bus_headway}\", specific_file))\n",
    "            # Read train GTFS file\n",
    "            train_file = pd.read_csv(os.path.join(train_gtfs_dirpath, f\"intercity-express-headway-{train_headway}/matched\", specific_file))\n",
    "            # Concatenate and reset index\n",
    "            combined_file = pd.concat([basic_bus_file, train_file], ignore_index=True).reset_index(drop=True)\n",
    "            # Save combined file to output directory\n",
    "            combined_file.to_csv(os.path.join(gtfs_output_dirpath, specific_file), index=False)\n"
   ]
  },
  {
   "cell_type": "markdown",
   "id": "d01fb8a1",
   "metadata": {},
   "source": [
    "# Create Ring PT GTFS"
   ]
  },
  {
   "cell_type": "code",
   "execution_count": 6,
   "id": "e4d95881",
   "metadata": {},
   "outputs": [],
   "source": [
    "for train_headway in train_headway_list:\n",
    "    for bus_headway in bus_headway_list:\n",
    "        # Define output GTFS filename\n",
    "        gtfs_filename = f'ring_pt_train-{train_headway}_bus-{bus_headway}'\n",
    "        gtfs_output_dirpath = os.path.join(pt_gtfs_dirpath, gtfs_filename)\n",
    "        os.makedirs(gtfs_output_dirpath, exist_ok=True)\n",
    "        \n",
    "        # Move general GTFS files to output directory\n",
    "        for general_file in general_gtfs_files:\n",
    "            src_fp = os.path.join(general_gtfs_dirpath, general_file)\n",
    "            dest_fp = os.path.join(gtfs_output_dirpath, general_file)\n",
    "            pd.read_csv(src_fp).to_csv(dest_fp, index=False)\n",
    "\n",
    "        # Combine PT-specific GTFS files\n",
    "        for specific_file in pt_specific_gtfs_files:\n",
    "            # Read basic bus GTFS file\n",
    "            basic_bus_file = pd.read_csv(os.path.join(bus_gtfs_dirpath, f\"basic/bus_headway_{bus_headway}\", specific_file))\n",
    "            # Read ring bus GTFS file\n",
    "            ring_bus_file = pd.read_csv(os.path.join(bus_gtfs_dirpath, f\"ring/bus_headway_{bus_headway}\", specific_file))\n",
    "            # Combine basic and ring bus files\n",
    "            bus_combined_file = pd.concat([basic_bus_file, ring_bus_file], ignore_index=True).reset_index(drop=True)\n",
    "            # Read train GTFS file\n",
    "            train_file = pd.read_csv(os.path.join(train_gtfs_dirpath, f\"intercity-express-headway-{train_headway}/matched\", specific_file))\n",
    "            # Concatenate and reset index\n",
    "            combined_file = pd.concat([bus_combined_file, train_file], ignore_index=True).reset_index(drop=True)\n",
    "            # Save combined file to output directory\n",
    "            combined_file.to_csv(os.path.join(gtfs_output_dirpath, specific_file), index=False)"
   ]
  },
  {
   "cell_type": "markdown",
   "id": "fffffc91",
   "metadata": {},
   "source": [
    "# Create Diagonal PT GTFS"
   ]
  },
  {
   "cell_type": "code",
   "execution_count": 5,
   "id": "7e7d6447",
   "metadata": {},
   "outputs": [],
   "source": [
    "for train_headway in train_headway_list:\n",
    "    for bus_headway in bus_headway_list:\n",
    "        # Define output GTFS filename\n",
    "        gtfs_filename = f'diagonal_pt_train-{train_headway}_bus-{bus_headway}'\n",
    "        gtfs_output_dirpath = os.path.join(pt_gtfs_dirpath, gtfs_filename)\n",
    "        os.makedirs(gtfs_output_dirpath, exist_ok=True)\n",
    "        \n",
    "        # Move general GTFS files to output directory\n",
    "        for general_file in general_gtfs_files:\n",
    "            src_fp = os.path.join(general_gtfs_dirpath, general_file)\n",
    "            dest_fp = os.path.join(gtfs_output_dirpath, general_file)\n",
    "            pd.read_csv(src_fp).to_csv(dest_fp, index=False)\n",
    "\n",
    "        # Combine PT-specific GTFS files\n",
    "        for specific_file in pt_specific_gtfs_files:\n",
    "            # Read basic bus GTFS file\n",
    "            basic_bus_file = pd.read_csv(os.path.join(bus_gtfs_dirpath, f\"basic/bus_headway_{bus_headway}\", specific_file))\n",
    "            # Read diagonal bus GTFS file\n",
    "            diagonal_bus_file = pd.read_csv(os.path.join(bus_gtfs_dirpath, f\"diagonal/bus_headway_{bus_headway}\", specific_file))\n",
    "            # Combine basic and diagonal bus files\n",
    "            bus_combined_file = pd.concat([basic_bus_file, diagonal_bus_file], ignore_index=True).reset_index(drop=True)\n",
    "            # Read train GTFS file\n",
    "            train_file = pd.read_csv(os.path.join(train_gtfs_dirpath, f\"intercity-express-headway-{train_headway}/matched\", specific_file))\n",
    "            # Concatenate and reset index\n",
    "            combined_file = pd.concat([bus_combined_file, train_file], ignore_index=True).reset_index(drop=True)\n",
    "            # Save combined file to output directory\n",
    "            combined_file.to_csv(os.path.join(gtfs_output_dirpath, specific_file), index=False)"
   ]
  },
  {
   "cell_type": "markdown",
   "id": "44d3fd3f",
   "metadata": {},
   "source": [
    "# Create Mature PT GTFS"
   ]
  },
  {
   "cell_type": "code",
   "execution_count": 4,
   "id": "703a4504",
   "metadata": {},
   "outputs": [],
   "source": [
    "for train_headway in train_headway_list:\n",
    "    for bus_headway in bus_headway_list:\n",
    "        # Define output GTFS filename\n",
    "        gtfs_filename = f'mature_pt_train-{train_headway}_bus-{bus_headway}'\n",
    "        gtfs_output_dirpath = os.path.join(pt_gtfs_dirpath, gtfs_filename)\n",
    "        os.makedirs(gtfs_output_dirpath, exist_ok=True)\n",
    "        \n",
    "        # Move general GTFS files to output directory\n",
    "        for general_file in general_gtfs_files:\n",
    "            src_fp = os.path.join(general_gtfs_dirpath, general_file)\n",
    "            dest_fp = os.path.join(gtfs_output_dirpath, general_file)\n",
    "            pd.read_csv(src_fp).to_csv(dest_fp, index=False)\n",
    "\n",
    "        # Combine PT-specific GTFS files\n",
    "        for specific_file in pt_specific_gtfs_files:\n",
    "            # Read basic bus GTFS file\n",
    "            basic_bus_file = pd.read_csv(os.path.join(bus_gtfs_dirpath, f\"basic/bus_headway_{bus_headway}\", specific_file))\n",
    "            # Read diagonal bus GTFS file\n",
    "            diagonal_bus_file = pd.read_csv(os.path.join(bus_gtfs_dirpath, f\"diagonal/bus_headway_{bus_headway}\", specific_file))\n",
    "            # Read ring bus GTFS file\n",
    "            ring_bus_file = pd.read_csv(os.path.join(bus_gtfs_dirpath, f\"ring/bus_headway_{bus_headway}\", specific_file))\n",
    "            # Combine basic and diagonal bus files\n",
    "            bus_combined_file = pd.concat([basic_bus_file, diagonal_bus_file], ignore_index=True).reset_index(drop=True)\n",
    "            # Combine with ring bus files\n",
    "            bus_combined_file = pd.concat([bus_combined_file, ring_bus_file], ignore_index=True).reset_index(drop=True)\n",
    "            # Read train GTFS file\n",
    "            train_file = pd.read_csv(os.path.join(train_gtfs_dirpath, f\"intercity-express-headway-{train_headway}/matched\", specific_file))\n",
    "            # Concatenate and reset index\n",
    "            combined_file = pd.concat([bus_combined_file, train_file], ignore_index=True).reset_index(drop=True)\n",
    "            # Save combined file to output directory\n",
    "            combined_file.to_csv(os.path.join(gtfs_output_dirpath, specific_file), index=False)"
   ]
  }
 ],
 "metadata": {
  "kernelspec": {
   "display_name": "chenhao",
   "language": "python",
   "name": "python3"
  },
  "language_info": {
   "codemirror_mode": {
    "name": "ipython",
    "version": 3
   },
   "file_extension": ".py",
   "mimetype": "text/x-python",
   "name": "python",
   "nbconvert_exporter": "python",
   "pygments_lexer": "ipython3",
   "version": "3.11.11"
  }
 },
 "nbformat": 4,
 "nbformat_minor": 5
}
