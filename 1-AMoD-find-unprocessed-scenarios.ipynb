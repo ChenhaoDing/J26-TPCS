{
 "cells": [
  {
   "cell_type": "code",
   "execution_count": 1,
   "id": "de1a23ba",
   "metadata": {},
   "outputs": [],
   "source": [
    "import pandas as pd\n",
    "import os\n",
    "from tqdm import tqdm"
   ]
  },
  {
   "cell_type": "code",
   "execution_count": null,
   "id": "332b20c1",
   "metadata": {},
   "outputs": [
    {
     "name": "stderr",
     "output_type": "stream",
     "text": [
      "100%|██████████| 126000/126000 [00:12<00:00, 10398.15it/s]"
     ]
    },
    {
     "name": "stdout",
     "output_type": "stream",
     "text": [
      "Found 17101 unprocessed scenarios out of 126000 total scenarios.\n"
     ]
    },
    {
     "name": "stderr",
     "output_type": "stream",
     "text": [
      "\n"
     ]
    }
   ],
   "source": [
    "fleetpy_study_dirpath = r\"D:\\projects\\fleetpy\\github\\ptbroker\\studies\\j26-tpcs\"\n",
    "fleetpy_study_results_dirpath = os.path.join(fleetpy_study_dirpath, \"results\")\n",
    "fleetpy_study_scenarios_dirpath = os.path.join(fleetpy_study_dirpath, \"scenarios\")\n",
    "\n",
    "mandatory_result_files = [\n",
    "    \"00_config.json\",\n",
    "    \"00_simulation.log\",\n",
    "    \"1_user-stats.csv\",\n",
    "    \"2_vehicle_types.csv\",\n",
    "    \"2-0_op-stats.csv\",\n",
    "    \"3-0_op-dyn_atts.csv\",\n",
    "    \"final_state.csv\",\n",
    "]\n",
    "\n",
    "simulation_progress_log_filepath = os.path.join(fleetpy_study_scenarios_dirpath, \"simulation_progress.log\")\n",
    "\n",
    "# Read all scenarios\n",
    "all_scenarios_df = pd.read_csv(os.path.join(fleetpy_study_scenarios_dirpath, \"amod_scenario_configs_20251006.csv\"))\n",
    "all_scenario_names = all_scenarios_df['scenario_name'].tolist()\n",
    "\n",
    "# Find unprocessed scenario names\n",
    "unprocessed_scenarios = []\n",
    "for scenario_name in tqdm(all_scenario_names):\n",
    "    scenario_dirpath = os.path.join(fleetpy_study_results_dirpath, scenario_name)\n",
    "    if not os.path.exists(scenario_dirpath):\n",
    "        unprocessed_scenarios.append(scenario_name)\n",
    "    elif not all(os.path.exists(os.path.join(scenario_dirpath, f)) for f in mandatory_result_files):\n",
    "        unprocessed_scenarios.append(scenario_name)\n",
    "\n",
    "print(f\"Found {len(unprocessed_scenarios)} unprocessed scenarios out of {len(all_scenario_names)} total scenarios.\")\n",
    "# Create a DataFrame for unprocessed scenarios\n",
    "unprocessed_scenarios_df = all_scenarios_df[all_scenarios_df['scenario_name'].isin(unprocessed_scenarios)]\n",
    "unprocessed_scenarios_df.reset_index(drop=True, inplace=True)\n",
    "\n",
    "# Cross-check with simulation progress log\n",
    "if os.path.exists(simulation_progress_log_filepath):\n",
    "    with open(simulation_progress_log_filepath, 'r') as f:\n",
    "        processed_scenarios_in_log = [line.split()[0] for line in f if line.strip()]\n",
    "    unprocessed_scenarios_in_log_df = all_scenarios_df[~all_scenarios_df['scenario_name'].isin(processed_scenarios_in_log)]\n",
    "    unprocessed_scenarios_in_log_df.reset_index(drop=True, inplace=True)\n",
    "    print(f\"Found {len(unprocessed_scenarios_in_log_df)} unprocessed scenarios in log out of {len(all_scenario_names)} total scenarios.\")\n",
    "\n",
    "    # Merge with previously found unprocessed scenarios\n",
    "    all_unprocessed_scenarios_df = pd.concat([unprocessed_scenarios_df, unprocessed_scenarios_in_log_df]).drop_duplicates().reset_index(drop=True)\n",
    "    print(f\"Total unique unprocessed scenarios: {len(all_unprocessed_scenarios_df)}\")\n",
    "\n",
    "    # Save to CSV\n",
    "    all_unprocessed_scenarios_df.to_csv(os.path.join(fleetpy_study_dirpath, \"scenarios\", \"amod_scenario_configs_20251006_unprocessed.csv\"), index=False)"
   ]
  }
 ],
 "metadata": {
  "kernelspec": {
   "display_name": "chenhao",
   "language": "python",
   "name": "python3"
  },
  "language_info": {
   "codemirror_mode": {
    "name": "ipython",
    "version": 3
   },
   "file_extension": ".py",
   "mimetype": "text/x-python",
   "name": "python",
   "nbconvert_exporter": "python",
   "pygments_lexer": "ipython3",
   "version": "3.11.11"
  }
 },
 "nbformat": 4,
 "nbformat_minor": 5
}
