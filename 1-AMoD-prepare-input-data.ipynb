{
 "cells": [
  {
   "cell_type": "code",
   "execution_count": 1,
   "id": "f28b4584",
   "metadata": {},
   "outputs": [],
   "source": [
    "import pandas as pd\n",
    "import numpy as np\n",
    "import os"
   ]
  },
  {
   "cell_type": "markdown",
   "id": "dd5b3299",
   "metadata": {},
   "source": [
    "# Prepare Demand"
   ]
  },
  {
   "cell_type": "code",
   "execution_count": 2,
   "id": "c4b92eac",
   "metadata": {},
   "outputs": [],
   "source": [
    "# Demand Size\n",
    "demand_size_list = [i for i in range(100, 601, 50)]\n",
    "# Demand Split Ratio (Intra Modal, %)\n",
    "demand_split_ratio_list = [i for i in range(10, 91, 20)]\n",
    "\n",
    "# Random Seed\n",
    "random_seed_list = [3, 6, 9]\n",
    "\n",
    "# Network Name\n",
    "network_name = \"11-500\"\n",
    "\n",
    "# Demand File Directory\n",
    "demand_dir = f\"data/demand/{network_name}/total/\"\n",
    "\n",
    "# Output Directory\n",
    "output_dir = f\"data/demand/{network_name}/amod/\""
   ]
  },
  {
   "cell_type": "code",
   "execution_count": 3,
   "id": "0431908e",
   "metadata": {},
   "outputs": [],
   "source": [
    "for rs in random_seed_list:\n",
    "    for ds in demand_size_list:\n",
    "        for dsr in demand_split_ratio_list:\n",
    "            demand_name = f\"ds{ds}_dsr{dsr}_rs{rs}.csv\"\n",
    "            demand_path = os.path.join(demand_dir, demand_name)\n",
    "            if not os.path.exists(demand_path):\n",
    "                print(f\"{demand_name} does not exist. Skipping...\")\n",
    "                continue\n",
    "\n",
    "            demand_df = pd.read_csv(demand_path)\n",
    "\n",
    "            # Add FleetPy Required Columns and Default Values\n",
    "            demand_df['is_multimodal'] = False\n",
    "            demand_df['modal_state'] = 0  # 0: AMoD, 3: FLM\n",
    "            demand_df['transfer_station_ids'] = None\n",
    "            demand_df['max_transfers'] = 0\n",
    "\n",
    "            # Get All Left Inter-Modal Trips\n",
    "            left_inter_modal_trips = demand_df[(demand_df['rq_type'] == 'inter') & (demand_df['subnetwork'] == 'left')].copy()\n",
    "            # Update Columns for Left Inter-Modal Trips\n",
    "            left_inter_modal_trips['is_multimodal'] = True\n",
    "            left_inter_modal_trips['modal_state'] = 3  # FLM\n",
    "            left_inter_modal_trips['transfer_station_ids'] =  'A;B' \n",
    "            left_inter_modal_trips['max_transfers'] = 1\n",
    "\n",
    "            # Get All Right Inter-Modal Trips\n",
    "            right_inter_modal_trips = demand_df[(demand_df['rq_type'] == 'inter') & (demand_df['subnetwork'] == 'right')].copy()\n",
    "            # Update Columns for Right Inter-Modal Trips\n",
    "            right_inter_modal_trips['is_multimodal'] = True\n",
    "            right_inter_modal_trips['modal_state'] = 3  # FLM\n",
    "            right_inter_modal_trips['transfer_station_ids'] = 'B;A'\n",
    "            right_inter_modal_trips['max_transfers'] = 1\n",
    "\n",
    "            # Update Demand DataFrame\n",
    "            demand_df.update(left_inter_modal_trips)\n",
    "            demand_df.update(right_inter_modal_trips)\n",
    "\n",
    "            # Save Updated Demand DataFrame\n",
    "            output_path = os.path.join(output_dir, demand_name)\n",
    "            os.makedirs(output_dir, exist_ok=True)\n",
    "            demand_df.to_csv(output_path, index=False)"
   ]
  },
  {
   "cell_type": "markdown",
   "id": "ce1c8240",
   "metadata": {},
   "source": [
    "# Prepare FleetPy Configuration Files"
   ]
  },
  {
   "cell_type": "code",
   "execution_count": null,
   "id": "7dc739c2",
   "metadata": {},
   "outputs": [],
   "source": []
  }
 ],
 "metadata": {
  "kernelspec": {
   "display_name": "chenhao",
   "language": "python",
   "name": "python3"
  },
  "language_info": {
   "codemirror_mode": {
    "name": "ipython",
    "version": 3
   },
   "file_extension": ".py",
   "mimetype": "text/x-python",
   "name": "python",
   "nbconvert_exporter": "python",
   "pygments_lexer": "ipython3",
   "version": "3.11.11"
  }
 },
 "nbformat": 4,
 "nbformat_minor": 5
}
