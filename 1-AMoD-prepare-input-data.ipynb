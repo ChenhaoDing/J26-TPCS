{
 "cells": [
  {
   "cell_type": "code",
   "execution_count": 1,
   "id": "f28b4584",
   "metadata": {},
   "outputs": [],
   "source": [
    "import pandas as pd\n",
    "import numpy as np\n",
    "import os"
   ]
  },
  {
   "cell_type": "markdown",
   "id": "dd5b3299",
   "metadata": {},
   "source": [
    "# Prepare Demand"
   ]
  },
  {
   "cell_type": "code",
   "execution_count": 2,
   "id": "c4b92eac",
   "metadata": {},
   "outputs": [],
   "source": [
    "# Demand Size\n",
    "demand_size_list = [i for i in range(100, 601, 50)]\n",
    "# Demand Split Ratio (Intra Modal, %)\n",
    "demand_split_ratio_list = [i for i in range(10, 91, 20)]\n",
    "\n",
    "# Random Seed\n",
    "random_seed_list = [3, 6, 9]\n",
    "\n",
    "# Network Name\n",
    "network_name = \"11-500\"\n",
    "\n",
    "# Demand File Directory\n",
    "demand_dir = f\"data/demand/{network_name}/total/\"\n",
    "\n",
    "# Output Directory\n",
    "output_dir = f\"data/demand/{network_name}/amod/\""
   ]
  },
  {
   "cell_type": "code",
   "execution_count": null,
   "id": "0431908e",
   "metadata": {},
   "outputs": [],
   "source": [
    "for rs in random_seed_list:\n",
    "    for ds in demand_size_list:\n",
    "        for dsr in demand_split_ratio_list:\n",
    "            demand_name = f\"ds{ds}_dsr{dsr}_rs{rs}.csv\"\n",
    "            demand_path = os.path.join(demand_dir, demand_name)\n",
    "            if not os.path.exists(demand_path):\n",
    "                print(f\"{demand_name} does not exist. Skipping...\")\n",
    "                continue\n",
    "\n",
    "            demand_df = pd.read_csv(demand_path)\n",
    "\n",
    "            # Add FleetPy Required Columns and Default Values\n",
    "            demand_df['is_multimodal'] = False\n",
    "            demand_df['modal_state'] = 0  # 0: AMoD, 3: FLM\n",
    "            demand_df['transfer_station_ids'] = None\n",
    "            demand_df['max_transfers'] = 0\n",
    "\n",
    "            # Get All Left Inter-Modal Trips\n",
    "            left_inter_modal_trips = demand_df[(demand_df['rq_type'] == 'inter') & (demand_df['subnetwork'] == 'left')].copy()\n",
    "            # Update Columns for Left Inter-Modal Trips\n",
    "            left_inter_modal_trips['is_multimodal'] = True\n",
    "            left_inter_modal_trips['modal_state'] = 3  # FLM\n",
    "            left_inter_modal_trips['transfer_station_ids'] = 'A;B' \n",
    "            left_inter_modal_trips['max_transfers'] = 1\n",
    "\n",
    "            # Get All Right Inter-Modal Trips\n",
    "            right_inter_modal_trips = demand_df[(demand_df['rq_type'] == 'inter') & (demand_df['subnetwork'] == 'right')].copy()\n",
    "            # Update Columns for Right Inter-Modal Trips\n",
    "            right_inter_modal_trips['is_multimodal'] = True\n",
    "            right_inter_modal_trips['modal_state'] = 3  # FLM\n",
    "            right_inter_modal_trips['transfer_station_ids'] = 'B;A'\n",
    "            right_inter_modal_trips['max_transfers'] = 1\n",
    "\n",
    "            # Update Demand DataFrame\n",
    "            demand_df.update(left_inter_modal_trips)\n",
    "            demand_df.update(right_inter_modal_trips)\n",
    "\n",
    "            # Save Updated Demand DataFrame\n",
    "            amod_demand_name = f\"amod_ds{ds}_dsr{dsr}_rs{rs}.csv\"\n",
    "            output_path = os.path.join(output_dir, amod_demand_name)\n",
    "            os.makedirs(output_dir, exist_ok=True)\n",
    "            demand_df.to_csv(output_path, index=False)"
   ]
  },
  {
   "cell_type": "markdown",
   "id": "ce1c8240",
   "metadata": {},
   "source": [
    "# Prepare FleetPy Configuration Files"
   ]
  },
  {
   "cell_type": "code",
   "execution_count": 4,
   "id": "7dc739c2",
   "metadata": {},
   "outputs": [],
   "source": [
    "# Train Headway (min)\n",
    "train_headway_list = [i for i in range(10, 31, 5)]\n",
    "\n",
    "# MoD Fleet Size\n",
    "mod_fleet_size_list = [i for i in range(30, 151, 20)]\n",
    "\n",
    "# MaaS Platform Communication Strategy\n",
    "maas_communication_strategy_list = ['default', 'TPCS']\n",
    "\n",
    "# Random Seed\n",
    "random_seed_list = [3, 6, 9]\n",
    "\n",
    "# MoD Waiting Time Threshold (s)\n",
    "mod_waiting_time_threshold_list = [300, 600, 900]\n",
    "# MoD Detour Time Threshold (%)\n",
    "mod_detour_time_threshold_list = [i for i in range(30, 101, 20)]\n",
    "\n",
    "# Demand Size\n",
    "demand_size_list = [i for i in range(100, 600, 50)]\n",
    "# Demand Split Ratio (Intra Modal, %)\n",
    "demand_split_ratio_list = [i for i in range(10, 91, 20)]\n",
    "\n",
    "# Total Simulation Time (s)\n",
    "total_sim_time = [0, 10800]  # 3 hours\n",
    "# Warm-up Time (s)\n",
    "warmup_time = 3600  # 1 hour\n",
    "# Simulation Time Period (s)\n",
    "time_period = [warmup_time, total_sim_time[1]+warmup_time]  # 1h + 3h\n",
    "\n",
    "op_rh_reservation_max_routes = 6\n",
    "\n",
    "amod_scenario_config_save_dirpath = \"data/scenarios/fleetpy-configuration\"\n",
    "os.makedirs(amod_scenario_config_save_dirpath, exist_ok=True)"
   ]
  },
  {
   "cell_type": "code",
   "execution_count": 5,
   "id": "8a95612c",
   "metadata": {},
   "outputs": [
    {
     "name": "stdout",
     "output_type": "stream",
     "text": [
      "Total number of scenarios: 126000\n"
     ]
    }
   ],
   "source": [
    "scenario_configs = []\n",
    "\n",
    "for random_seed in random_seed_list:\n",
    "    for fleet_size in mod_fleet_size_list:\n",
    "        for demand_size in demand_size_list:\n",
    "            for demand_split_ratio in demand_split_ratio_list:\n",
    "                for broker_type in maas_communication_strategy_list:\n",
    "                    for op_max_detour_time_factor in mod_detour_time_threshold_list:\n",
    "                        for op_max_wait_time in mod_waiting_time_threshold_list:\n",
    "                            for headway in train_headway_list:\n",
    "                                scenario_name = f\"amod-{demand_size}-{demand_split_ratio}-{fleet_size}-{broker_type}-{op_max_detour_time_factor}-{op_max_wait_time}-{headway}-{random_seed}-{time_period[0]}-{time_period[1]}\"\n",
    "                                rq_file = f\"amod_ds{demand_size}_dsr{demand_split_ratio}_rs{random_seed}.csv\"\n",
    "                                op_fleet_composition = f'default_vehtype:{fleet_size}'\n",
    "                                initial_state_scenario = f'vehicle_positions_{fleet_size}-{random_seed}'\n",
    "                                gtfs_name = f\"intercity-express-headway-{headway}\"\n",
    "                                sim_start_date = \"20250101\"\n",
    "                                sim_broker_type = 'PTBrokerTPCS' if broker_type == 'TPCS' else 'PTBrokerDefault'\n",
    "\n",
    "                                config_dict = {\n",
    "                                    'scenario_name': scenario_name,\n",
    "                                    'rq_file': rq_file,\n",
    "                                    'op_fleet_composition': op_fleet_composition,\n",
    "                                    'initial_state_scenario': initial_state_scenario,\n",
    "                                    'gtfs_name': gtfs_name,\n",
    "                                    'sim_start_date': sim_start_date,\n",
    "                                    'op_rh_reservation_max_routes': op_rh_reservation_max_routes,\n",
    "                                    'broker_type': sim_broker_type,\n",
    "                                    'start_time': time_period[0],\n",
    "                                    'end_time': time_period[1],\n",
    "                                    'op_max_detour_time_factor': op_max_detour_time_factor,\n",
    "                                    'op_max_wait_time': op_max_wait_time,\n",
    "                                }\n",
    "\n",
    "                                scenario_configs.append(config_dict)\n",
    "\n",
    "df = pd.DataFrame(scenario_configs)\n",
    "df.to_csv(os.path.join(amod_scenario_config_save_dirpath, f'amod_scenario_configs_20251006.csv'), index=False)\n",
    "\n",
    "print(f\"Total number of scenarios: {len(scenario_configs)}\")"
   ]
  }
 ],
 "metadata": {
  "kernelspec": {
   "display_name": "chenhao",
   "language": "python",
   "name": "python3"
  },
  "language_info": {
   "codemirror_mode": {
    "name": "ipython",
    "version": 3
   },
   "file_extension": ".py",
   "mimetype": "text/x-python",
   "name": "python",
   "nbconvert_exporter": "python",
   "pygments_lexer": "ipython3",
   "version": "3.11.11"
  }
 },
 "nbformat": 4,
 "nbformat_minor": 5
}
