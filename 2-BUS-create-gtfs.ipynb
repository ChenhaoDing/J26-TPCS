{
 "cells": [
  {
   "cell_type": "code",
   "execution_count": 1,
   "id": "db17ee02",
   "metadata": {},
   "outputs": [],
   "source": [
    "import pandas as pd\n",
    "import numpy as np\n",
    "from matplotlib import pyplot as plt\n",
    "import os"
   ]
  },
  {
   "cell_type": "markdown",
   "id": "24ce7538",
   "metadata": {},
   "source": [
    "# Variables"
   ]
  },
  {
   "cell_type": "code",
   "execution_count": 2,
   "id": "2330e064",
   "metadata": {},
   "outputs": [],
   "source": [
    "# BUS Network\n",
    "bus_network_list = ['basic', 'diagonal', 'ring', 'mature']\n",
    "# Train Headway (min)\n",
    "train_headway_list = [i for i in range(10, 31, 5)]"
   ]
  },
  {
   "cell_type": "markdown",
   "id": "7768b519",
   "metadata": {},
   "source": [
    "# Network"
   ]
  },
  {
   "cell_type": "code",
   "execution_count": 3,
   "id": "93819cc7",
   "metadata": {},
   "outputs": [
    {
     "name": "stdout",
     "output_type": "stream",
     "text": [
      "Number of nodes: 242\n",
      "Number of left nodes: 121\n",
      "Number of right nodes: 121\n"
     ]
    }
   ],
   "source": [
    "# Load Network Files\n",
    "network_name = \"11-500\"\n",
    "network_path = f\"data/network/{network_name}/\"\n",
    "node_df = pd.read_csv(network_path + \"nodes.csv\")\n",
    "link_df = pd.read_csv(network_path + \"edges.csv\")\n",
    "\n",
    "node_id_list = node_df['node_index'].tolist()\n",
    "print(f\"Number of nodes: {len(node_id_list)}\")\n",
    "\n",
    "left_node_id_list = [i for i in range(0, len(node_id_list)//2)]\n",
    "right_node_id_list = [i for i in range(len(node_id_list)//2, len(node_id_list))]\n",
    "print(f\"Number of left nodes: {len(left_node_id_list)}\")\n",
    "print(f\"Number of right nodes: {len(right_node_id_list)}\")\n",
    "\n",
    "left_mobility_node_id_list = [116, 117, 118, 119, 120]\n",
    "right_mobility_node_id_list = [237, 238, 239, 240, 241]"
   ]
  },
  {
   "cell_type": "code",
   "execution_count": 4,
   "id": "2c2e6672",
   "metadata": {},
   "outputs": [
    {
     "name": "stdout",
     "output_type": "stream",
     "text": [
      "Distance matrix shape: (242, 242)\n"
     ]
    }
   ],
   "source": [
    "# Load Distance Matrix\n",
    "distance_matrix = np.load(network_path + \"dist_matrix.npy\")\n",
    "print(f\"Distance matrix shape: {distance_matrix.shape}\")"
   ]
  },
  {
   "cell_type": "markdown",
   "id": "59715d4f",
   "metadata": {},
   "source": [
    "# Create GTFS for Basic Bus Network"
   ]
  },
  {
   "cell_type": "code",
   "execution_count": null,
   "id": "f4419e97",
   "metadata": {},
   "outputs": [],
   "source": [
    "def create_basic_bus_gtfs(train_headway):\n",
    "    output_path = f\"data/gtfs/bus-basic/{train_headway}\"\n",
    "    os.makedirs(output_path, exist_ok=True)\n",
    "\n",
    "    # Create agency_fp.txt\n",
    "    agency_df = pd.DataFrame({\n",
    "        'agency_id': [1],\n",
    "        'agency_name': 'bus-basic',\n",
    "    })\n",
    "    agency_df.to_csv(os.path.join(output_path, \"agency_fp.txt\"), index=False)\n",
    "\n",
    "    # Create calendar_fp.txt\n",
    "    calendar_df = pd.DataFrame({\n",
    "        'service_id': [1],\n",
    "        'start_date': 20000101,\n",
    "        'end_date': 20991231,\n",
    "        'monday': 1,\n",
    "        'tuesday': 1,\n",
    "        'wednesday': 1,\n",
    "        'thursday': 1,\n",
    "        'friday': 1,\n",
    "        'saturday': 1,\n",
    "        'sunday': 1,\n",
    "    })\n",
    "    calendar_df.to_csv(os.path.join(output_path, \"calendar_fp.txt\"), index=False)\n",
    "\n",
    "    # Create routes_fp.txt\n",
    "    routes_df = pd.DataFrame({\n",
    "        'route_id': [2, 3],\n",
    "        'route_short_name': ['bus-basic-ns', 'bus-basic-ew'],\n",
    "        'route_desc': ['bus', 'bus'],\n",
    "    })\n",
    "    routes_df.to_csv(os.path.join(output_path, \"routes_fp.txt\"), index=False)\n",
    "\n",
    "    # Create stations_fp.txt\n",
    "    stations_df = pd.DataFrame({\n",
    "        'station_id': [1, 2, 3],\n",
    "        'station_name': ['Station A', 'Station B', 'Station C'],\n",
    "        'station_lat': [12.34, 12.35, 12.36],\n",
    "        'station_lon': [56.78, 56.79, 56.80],\n",
    "        'stops_included': [[1, 2], [2, 3], [1, 3]],\n",
    "        'station_stop_transfer_times': [[0, 5], [5, 0], [0, 10]],\n",
    "        'num_stops_included': [2, 2, 2]\n",
    "    })\n",
    "    stations_df.to_csv(os.path.join(output_path, \"stations_fp.txt\"), index=False)\n",
    "\n",
    "    "
   ]
  }
 ],
 "metadata": {
  "kernelspec": {
   "display_name": "chenhao",
   "language": "python",
   "name": "python3"
  },
  "language_info": {
   "codemirror_mode": {
    "name": "ipython",
    "version": 3
   },
   "file_extension": ".py",
   "mimetype": "text/x-python",
   "name": "python",
   "nbconvert_exporter": "python",
   "pygments_lexer": "ipython3",
   "version": "3.11.11"
  }
 },
 "nbformat": 4,
 "nbformat_minor": 5
}
