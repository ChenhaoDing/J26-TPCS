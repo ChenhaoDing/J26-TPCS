{
 "cells": [
  {
   "cell_type": "code",
   "execution_count": 1,
   "id": "ae50c984",
   "metadata": {},
   "outputs": [],
   "source": [
    "import pandas as pd\n",
    "import numpy as np\n",
    "import os\n",
    "from datetime import datetime, timedelta\n",
    "import time\n",
    "from itertools import product\n",
    "from tqdm import tqdm\n",
    "import ast\n",
    "import sqlite3\n",
    "import json\n",
    "\n",
    "from src.pt.PTOperator import PTOperator"
   ]
  },
  {
   "cell_type": "markdown",
   "id": "91189fe4",
   "metadata": {},
   "source": [
    "# Variables"
   ]
  },
  {
   "cell_type": "code",
   "execution_count": 2,
   "id": "d479c4fa",
   "metadata": {},
   "outputs": [],
   "source": [
    "# Demand Size\n",
    "demand_size_list = [i for i in range(100, 601, 50)]\n",
    "# Demand Split Ratio (Intra Modal, %)\n",
    "demand_split_ratio_list = [i for i in range(10, 91, 20)]\n",
    "\n",
    "# Random Seed\n",
    "random_seed_list = [3, 6, 9]\n",
    "\n",
    "# Network Name\n",
    "network_name = \"11-500\"\n",
    "\n",
    "# Train Headway (min)\n",
    "train_headway_list = [i for i in range(10, 31, 5)]\n",
    "\n",
    "# Bus Headway (min)\n",
    "bus_headway_list = [10]\n",
    "\n",
    "# Street Station Transfer Time (seconds)\n",
    "street_station_transfer_time = 60\n",
    "\n",
    "# Mobility Hub IDs\n",
    "MOBILITY_HUB_IDS = {120: \"A\", 241: \"B\"}\n",
    "\n",
    "# Walking Speed (m/s)\n",
    "WALKING_SPEED = 1.33\n",
    "\n",
    "# Simulation Date\n",
    "SIMULATION_DATE = datetime(2025, 10, 1)\n",
    "\n",
    "# PT Network Name list\n",
    "pt_network_name_list = [\"basic\", \"ring\", \"diagonal\", \"mature\"]\n",
    "\n",
    "# Demand File Directory\n",
    "pt_demand_dir = f\"data/demand/{network_name}/pt/\"\n",
    "\n",
    "# GTFS File Directory\n",
    "gtfs_filepath = f\"data/GTFS/pt\"\n",
    "\n",
    "# Results Output Directory\n",
    "results_output_dir = f\"data/pt-sim-results/\"\n",
    "os.makedirs(results_output_dir, exist_ok=True)"
   ]
  },
  {
   "cell_type": "markdown",
   "id": "92f480a9",
   "metadata": {},
   "source": [
    "# Network"
   ]
  },
  {
   "cell_type": "code",
   "execution_count": 3,
   "id": "ed779a99",
   "metadata": {},
   "outputs": [
    {
     "name": "stdout",
     "output_type": "stream",
     "text": [
      "Number of nodes: 242\n",
      "Number of left nodes: 121\n",
      "Number of right nodes: 121\n"
     ]
    }
   ],
   "source": [
    "# Load Network Files\n",
    "network_name = \"11-500\"\n",
    "network_path = f\"data/network/{network_name}/\"\n",
    "node_df = pd.read_csv(network_path + \"nodes.csv\")\n",
    "link_df = pd.read_csv(network_path + \"edges.csv\")\n",
    "\n",
    "node_id_list = node_df['node_index'].tolist()\n",
    "print(f\"Number of nodes: {len(node_id_list)}\")\n",
    "\n",
    "left_node_id_list = [i for i in range(0, len(node_id_list)//2)]\n",
    "right_node_id_list = [i for i in range(len(node_id_list)//2, len(node_id_list))]\n",
    "print(f\"Number of left nodes: {len(left_node_id_list)}\")\n",
    "print(f\"Number of right nodes: {len(right_node_id_list)}\")\n",
    "\n",
    "left_mobility_node_id_list = [116, 117, 118, 119, 120]\n",
    "right_mobility_node_id_list = [237, 238, 239, 240, 241]"
   ]
  },
  {
   "cell_type": "code",
   "execution_count": 4,
   "id": "677b8e99",
   "metadata": {},
   "outputs": [
    {
     "name": "stdout",
     "output_type": "stream",
     "text": [
      "Distance matrix shape: (242, 242)\n"
     ]
    }
   ],
   "source": [
    "# Load Distance Matrix\n",
    "distance_matrix = np.load(network_path + \"dist_matrix.npy\")\n",
    "print(f\"Distance matrix shape: {distance_matrix.shape}\")"
   ]
  },
  {
   "cell_type": "markdown",
   "id": "b53de6b2",
   "metadata": {},
   "source": [
    "# Database"
   ]
  },
  {
   "cell_type": "code",
   "execution_count": 5,
   "id": "75c97212",
   "metadata": {},
   "outputs": [],
   "source": [
    "DB_FILE = os.path.join(results_output_dir, 'pt_journey_plan_database.db')\n",
    "\n",
    "def setup_database():\n",
    "    if os.path.exists(DB_FILE):\n",
    "        try:\n",
    "            os.remove(DB_FILE)\n",
    "            print(f\"Successfully removed old database: {DB_FILE}\")\n",
    "        except OSError as e:\n",
    "            print(f\"Error: Could not remove file {DB_FILE}. (Is it locked?): {e}\")\n",
    "            return\n",
    "        \n",
    "    create_table_sql = \"\"\"\n",
    "    CREATE TABLE IF NOT EXISTS trip_logs (\n",
    "        unique_request_id INTEGER PRIMARY KEY,\n",
    "        request_id REAL,\n",
    "        pt_network_name TEXT,\n",
    "        train_headway REAL,\n",
    "        bus_headway REAL,\n",
    "        trip_data TEXT,\n",
    "        created_at TIMESTAMP DEFAULT CURRENT_TIMESTAMP\n",
    "    );\n",
    "    \"\"\"\n",
    "    try:\n",
    "        with sqlite3.connect(DB_FILE) as conn:\n",
    "            cursor = conn.cursor()\n",
    "            cursor.execute(create_table_sql)\n",
    "            print(f\"Database '{DB_FILE}' and table 'trip_logs' are ready.\")\n",
    "    except sqlite3.Error as e:\n",
    "        print(f\"An error occurred while setting up database: {e}\")\n",
    "\n",
    "def save_trip_to_db(details_dict, trip_dict):\n",
    "    try:\n",
    "        trip_json = json.dumps(trip_dict)\n",
    "    except TypeError as e:\n",
    "        print(f\"Error serializing trip_dict to JSON: {e}\")\n",
    "        return\n",
    "\n",
    "    insert_sql = \"\"\"\n",
    "    INSERT INTO trip_logs (\n",
    "        unique_request_id,\n",
    "        request_id, \n",
    "        pt_network_name, \n",
    "        train_headway, \n",
    "        bus_headway, \n",
    "        trip_data\n",
    "    ) VALUES (?, ?, ?, ?, ?, ?)\n",
    "    ON CONFLICT(unique_request_id) DO UPDATE SET\n",
    "        request_id=excluded.request_id,\n",
    "        pt_network_name=excluded.pt_network_name,\n",
    "        train_headway=excluded.train_headway,\n",
    "        bus_headway=excluded.bus_headway,\n",
    "        trip_data=excluded.trip_data,\n",
    "        created_at=CURRENT_TIMESTAMP;\n",
    "    \"\"\"\n",
    "    \n",
    "    data_tuple = (\n",
    "        details_dict['unique_request_id'],\n",
    "        details_dict['request_id'],\n",
    "        details_dict['pt_network_name'],\n",
    "        details_dict['train_headway'],\n",
    "        details_dict['bus_headway'],\n",
    "        trip_json\n",
    "    )\n",
    "    \n",
    "    try:\n",
    "        with sqlite3.connect(DB_FILE) as conn:\n",
    "            cursor = conn.cursor()\n",
    "            cursor.execute(insert_sql, data_tuple)\n",
    "    except sqlite3.Error as e:\n",
    "        print(f\"An error occurred while inserting data: {e}\")"
   ]
  },
  {
   "cell_type": "code",
   "execution_count": 6,
   "id": "26827da8",
   "metadata": {},
   "outputs": [
    {
     "name": "stdout",
     "output_type": "stream",
     "text": [
      "Successfully removed old database: data/pt-sim-results/pt_journey_plan_database.db\n",
      "Database 'data/pt-sim-results/pt_journey_plan_database.db' and table 'trip_logs' are ready.\n"
     ]
    }
   ],
   "source": [
    "setup_database()"
   ]
  },
  {
   "cell_type": "markdown",
   "id": "5c4919b8",
   "metadata": {},
   "source": [
    "# Run Simulations"
   ]
  },
  {
   "cell_type": "code",
   "execution_count": null,
   "id": "01f0f83b",
   "metadata": {},
   "outputs": [
    {
     "name": "stdout",
     "output_type": "stream",
     "text": [
      "Running PT Simulations for PT Network: basic, Train Headway: 10 min, Bus Headway: 10 min\n"
     ]
    },
    {
     "name": "stderr",
     "output_type": "stream",
     "text": [
      "100%|██████████| 165/165 [07:54<00:00,  2.87s/it]\n"
     ]
    },
    {
     "name": "stdout",
     "output_type": "stream",
     "text": [
      "Running PT Simulations for PT Network: basic, Train Headway: 15 min, Bus Headway: 10 min\n"
     ]
    },
    {
     "name": "stderr",
     "output_type": "stream",
     "text": [
      "100%|██████████| 165/165 [07:42<00:00,  2.80s/it]\n"
     ]
    },
    {
     "name": "stdout",
     "output_type": "stream",
     "text": [
      "Running PT Simulations for PT Network: basic, Train Headway: 20 min, Bus Headway: 10 min\n"
     ]
    },
    {
     "name": "stderr",
     "output_type": "stream",
     "text": [
      "100%|██████████| 165/165 [07:38<00:00,  2.78s/it]\n"
     ]
    },
    {
     "name": "stdout",
     "output_type": "stream",
     "text": [
      "Running PT Simulations for PT Network: basic, Train Headway: 25 min, Bus Headway: 10 min\n"
     ]
    },
    {
     "name": "stderr",
     "output_type": "stream",
     "text": [
      "100%|██████████| 165/165 [07:43<00:00,  2.81s/it]\n"
     ]
    },
    {
     "name": "stdout",
     "output_type": "stream",
     "text": [
      "Running PT Simulations for PT Network: basic, Train Headway: 30 min, Bus Headway: 10 min\n"
     ]
    },
    {
     "name": "stderr",
     "output_type": "stream",
     "text": [
      "100%|██████████| 165/165 [07:51<00:00,  2.86s/it]\n"
     ]
    },
    {
     "name": "stdout",
     "output_type": "stream",
     "text": [
      "Running PT Simulations for PT Network: ring, Train Headway: 10 min, Bus Headway: 10 min\n"
     ]
    },
    {
     "name": "stderr",
     "output_type": "stream",
     "text": [
      "100%|██████████| 165/165 [09:28<00:00,  3.45s/it]\n"
     ]
    },
    {
     "name": "stdout",
     "output_type": "stream",
     "text": [
      "Running PT Simulations for PT Network: ring, Train Headway: 15 min, Bus Headway: 10 min\n"
     ]
    },
    {
     "name": "stderr",
     "output_type": "stream",
     "text": [
      "100%|██████████| 165/165 [09:21<00:00,  3.40s/it]\n"
     ]
    },
    {
     "name": "stdout",
     "output_type": "stream",
     "text": [
      "Running PT Simulations for PT Network: ring, Train Headway: 20 min, Bus Headway: 10 min\n"
     ]
    },
    {
     "name": "stderr",
     "output_type": "stream",
     "text": [
      "100%|██████████| 165/165 [09:26<00:00,  3.44s/it]\n"
     ]
    },
    {
     "name": "stdout",
     "output_type": "stream",
     "text": [
      "Running PT Simulations for PT Network: ring, Train Headway: 25 min, Bus Headway: 10 min\n"
     ]
    },
    {
     "name": "stderr",
     "output_type": "stream",
     "text": [
      "100%|██████████| 165/165 [09:35<00:00,  3.49s/it]\n"
     ]
    },
    {
     "name": "stdout",
     "output_type": "stream",
     "text": [
      "Running PT Simulations for PT Network: ring, Train Headway: 30 min, Bus Headway: 10 min\n"
     ]
    },
    {
     "name": "stderr",
     "output_type": "stream",
     "text": [
      "100%|██████████| 165/165 [09:39<00:00,  3.51s/it]\n"
     ]
    },
    {
     "name": "stdout",
     "output_type": "stream",
     "text": [
      "Running PT Simulations for PT Network: diagonal, Train Headway: 10 min, Bus Headway: 10 min\n"
     ]
    },
    {
     "name": "stderr",
     "output_type": "stream",
     "text": [
      "100%|██████████| 165/165 [12:22<00:00,  4.50s/it]\n"
     ]
    },
    {
     "name": "stdout",
     "output_type": "stream",
     "text": [
      "Running PT Simulations for PT Network: diagonal, Train Headway: 15 min, Bus Headway: 10 min\n"
     ]
    },
    {
     "name": "stderr",
     "output_type": "stream",
     "text": [
      "100%|██████████| 165/165 [12:15<00:00,  4.46s/it]\n"
     ]
    },
    {
     "name": "stdout",
     "output_type": "stream",
     "text": [
      "Running PT Simulations for PT Network: diagonal, Train Headway: 20 min, Bus Headway: 10 min\n"
     ]
    },
    {
     "name": "stderr",
     "output_type": "stream",
     "text": [
      "100%|██████████| 165/165 [12:13<00:00,  4.45s/it]\n"
     ]
    },
    {
     "name": "stdout",
     "output_type": "stream",
     "text": [
      "Running PT Simulations for PT Network: diagonal, Train Headway: 25 min, Bus Headway: 10 min\n"
     ]
    },
    {
     "name": "stderr",
     "output_type": "stream",
     "text": [
      "100%|██████████| 165/165 [12:17<00:00,  4.47s/it]\n"
     ]
    },
    {
     "name": "stdout",
     "output_type": "stream",
     "text": [
      "Running PT Simulations for PT Network: diagonal, Train Headway: 30 min, Bus Headway: 10 min\n"
     ]
    },
    {
     "name": "stderr",
     "output_type": "stream",
     "text": [
      "100%|██████████| 165/165 [12:20<00:00,  4.49s/it]\n"
     ]
    },
    {
     "name": "stdout",
     "output_type": "stream",
     "text": [
      "Running PT Simulations for PT Network: mature, Train Headway: 10 min, Bus Headway: 10 min\n"
     ]
    },
    {
     "name": "stderr",
     "output_type": "stream",
     "text": [
      "100%|██████████| 165/165 [13:52<00:00,  5.04s/it]\n"
     ]
    },
    {
     "name": "stdout",
     "output_type": "stream",
     "text": [
      "Running PT Simulations for PT Network: mature, Train Headway: 15 min, Bus Headway: 10 min\n"
     ]
    },
    {
     "name": "stderr",
     "output_type": "stream",
     "text": [
      "100%|██████████| 165/165 [13:53<00:00,  5.05s/it]\n"
     ]
    },
    {
     "name": "stdout",
     "output_type": "stream",
     "text": [
      "Running PT Simulations for PT Network: mature, Train Headway: 20 min, Bus Headway: 10 min\n"
     ]
    },
    {
     "name": "stderr",
     "output_type": "stream",
     "text": [
      "100%|██████████| 165/165 [13:54<00:00,  5.06s/it]\n"
     ]
    },
    {
     "name": "stdout",
     "output_type": "stream",
     "text": [
      "Running PT Simulations for PT Network: mature, Train Headway: 25 min, Bus Headway: 10 min\n"
     ]
    },
    {
     "name": "stderr",
     "output_type": "stream",
     "text": [
      "100%|██████████| 165/165 [13:53<00:00,  5.05s/it]\n"
     ]
    },
    {
     "name": "stdout",
     "output_type": "stream",
     "text": [
      "Running PT Simulations for PT Network: mature, Train Headway: 30 min, Bus Headway: 10 min\n"
     ]
    },
    {
     "name": "stderr",
     "output_type": "stream",
     "text": [
      "100%|██████████| 165/165 [13:55<00:00,  5.06s/it]"
     ]
    },
    {
     "name": "stdout",
     "output_type": "stream",
     "text": [
      "Total PT simulations run: 3300\n",
      "Total requests processed: 1155000\n"
     ]
    },
    {
     "name": "stderr",
     "output_type": "stream",
     "text": [
      "\n"
     ]
    }
   ],
   "source": [
    "counter = 0\n",
    "unique_rq_id = 0\n",
    "all_demand_combinations = list(product(demand_size_list, demand_split_ratio_list, random_seed_list))\n",
    "\n",
    "# For each PT network\n",
    "for pt_network_name in pt_network_name_list:\n",
    "    for train_headway in train_headway_list:\n",
    "        for bus_headway in bus_headway_list:\n",
    "            print(f\"Running PT Simulations for PT Network: {pt_network_name}, Train Headway: {train_headway} min, Bus Headway: {bus_headway} min\")\n",
    "            gtfs_dir = f\"data/GTFS/pt/{pt_network_name}_pt_train-{train_headway}_bus-{bus_headway}\"\n",
    "            # Initialize PT Operator\n",
    "            pt_operator = PTOperator(gtfs_dir, print_logs=False)\n",
    "\n",
    "            # Save the results\n",
    "            save_dir = os.path.join(results_output_dir, f\"{pt_network_name}_pt_train-{train_headway}_bus-{bus_headway}\")\n",
    "            os.makedirs(save_dir, exist_ok=True)\n",
    "\n",
    "            # For each demand file\n",
    "            for demand_size, demand_split_ratio, random_seed in tqdm(all_demand_combinations):\n",
    "                demand_filepath = os.path.join(pt_demand_dir, pt_network_name, f\"pt_ds{demand_size}_dsr{demand_split_ratio}_rs{random_seed}.csv\")\n",
    "                demand_df = pd.read_csv(demand_filepath)\n",
    "\n",
    "                counter += 1\n",
    "\n",
    "                # Add new columns for PT results\n",
    "                demand_df[\"start_station_departure_time\"] = np.nan\n",
    "                demand_df[\"end_station_arrival_time\"] = np.nan\n",
    "                demand_df[\"end_station_street_arrival_time\"] = np.nan\n",
    "                demand_df[\"pt_journey_duration\"] = np.nan\n",
    "                demand_df[\"num_transfers\"] = np.nan\n",
    "                demand_df[\"selected_start_station_id\"] = ''\n",
    "                demand_df[\"selected_end_station_id\"] = ''\n",
    "                demand_df[\"walking_time\"] = np.nan\n",
    "                demand_df[\"walking_arrival_time\"] = np.nan\n",
    "                demand_df[\"best_option\"] = 'pt'  # Default to PT\n",
    "\n",
    "                for index, row in demand_df.iterrows():\n",
    "                    source_station_ids = row[\"start_station_street_ids\"].replace(\";\", \",\")\n",
    "                    source_station_ids = source_station_ids.replace(\" \", \"\")\n",
    "                    source_station_ids = ast.literal_eval(source_station_ids)\n",
    "                    source_station_ids = [MOBILITY_HUB_IDS.get(item, item) for item in source_station_ids]\n",
    "\n",
    "                    target_station_ids = row[\"end_station_street_ids\"].replace(\";\", \",\")\n",
    "                    target_station_ids = target_station_ids.replace(\" \", \"\")\n",
    "                    target_station_ids = ast.literal_eval(target_station_ids)\n",
    "                    target_station_ids = [MOBILITY_HUB_IDS.get(item, item) for item in target_station_ids]\n",
    "\n",
    "                    station_street_arrival_time = row[\"start_station_street_arrival_time\"]\n",
    "                    arrival_time = station_street_arrival_time + street_station_transfer_time\n",
    "                    arrival_datetime = SIMULATION_DATE + timedelta(seconds=arrival_time)\n",
    "\n",
    "                    demand_df.at[index, \"start_station_departure_time\"] = arrival_time\n",
    "\n",
    "                    pt_journey, selected_source_station_id, selected_target_station_id = pt_operator.return_fastest_pt_journey_xtox(\n",
    "                        source_station_ids,\n",
    "                        target_station_ids,\n",
    "                        arrival_datetime,\n",
    "                        max_transfers=999,\n",
    "                        detailed=True\n",
    "                    )\n",
    "\n",
    "                    if pt_journey is not None:\n",
    "                        duration = pt_journey[\"duration\"]\n",
    "\n",
    "                        demand_df.at[index, \"end_station_arrival_time\"] = arrival_time + duration\n",
    "                        demand_df.at[index, \"end_station_street_arrival_time\"] = arrival_time + duration + street_station_transfer_time\n",
    "                        demand_df.at[index, \"pt_journey_duration\"] = duration\n",
    "                        demand_df.at[index, \"num_transfers\"] = pt_journey[\"num_transfers\"]\n",
    "                        demand_df.at[index, \"selected_start_station_id\"] = selected_source_station_id\n",
    "                        demand_df.at[index, \"selected_end_station_id\"] = selected_target_station_id\n",
    "\n",
    "                    rq_type = row[\"rq_type\"]\n",
    "                    if rq_type == 'intra':\n",
    "                        walking_distance = distance_matrix[row[\"start\"], row[\"end\"]]\n",
    "                        walking_time = int(walking_distance / WALKING_SPEED)\n",
    "                        demand_df.at[index, \"walking_time\"] = walking_time\n",
    "                        demand_df.at[index, \"walking_arrival_time\"] = row[\"rq_time\"] + walking_time\n",
    "\n",
    "                        # Compare PT and Walking options\n",
    "                        pt_arrival_time = demand_df.at[index, \"end_station_street_arrival_time\"]\n",
    "                        walking_arrival_time = demand_df.at[index, \"walking_arrival_time\"]\n",
    "\n",
    "                        if walking_arrival_time < pt_arrival_time:\n",
    "                           demand_df.at[index, \"best_option\"] = 'walking'\n",
    "\n",
    "                    # Save each trip to the database\n",
    "                    details_dict = {\n",
    "                        'unique_request_id': unique_rq_id,\n",
    "                        'request_id': row[\"request_id\"],\n",
    "                        'pt_network_name': \"pt_network_name\",\n",
    "                        'train_headway': \"train_headway\",\n",
    "                        'bus_headway':\"bus_headway\",\n",
    "                    }\n",
    "                    unique_rq_id += 1\n",
    "\n",
    "                    save_trip_to_db(details_dict, pt_journey)\n",
    "\n",
    "                # Save the demand DataFrame\n",
    "                demand_df.to_csv(os.path.join(save_dir, f\"pt_ds{demand_size}_dsr{demand_split_ratio}_rs{random_seed}.csv\"), index=False)\n",
    "\n",
    "print(f\"Total PT simulations run: {counter}\")\n",
    "print(f\"Total requests processed: {unique_rq_id}\")\n",
    "\n",
    "# Total PT simulations run: 3300\n",
    "# Total requests processed: 1155000"
   ]
  }
 ],
 "metadata": {
  "kernelspec": {
   "display_name": "chenhao",
   "language": "python",
   "name": "python3"
  },
  "language_info": {
   "codemirror_mode": {
    "name": "ipython",
    "version": 3
   },
   "file_extension": ".py",
   "mimetype": "text/x-python",
   "name": "python",
   "nbconvert_exporter": "python",
   "pygments_lexer": "ipython3",
   "version": "3.11.11"
  }
 },
 "nbformat": 4,
 "nbformat_minor": 5
}
